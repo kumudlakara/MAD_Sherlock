{
 "cells": [
  {
   "cell_type": "code",
   "execution_count": 1,
   "metadata": {},
   "outputs": [],
   "source": [
    "import numpy as np\n",
    "import pandas as pd\n",
    "import matplotlib.pyplot as plt\n",
    "import ast"
   ]
  },
  {
   "cell_type": "code",
   "execution_count": 2,
   "metadata": {},
   "outputs": [],
   "source": [
    "data = pd.read_csv(\"../user_study_data.csv\", index_col=0)"
   ]
  },
  {
   "cell_type": "code",
   "execution_count": 3,
   "metadata": {},
   "outputs": [],
   "source": [
    "ground_truths = [data[\"GT1\"],data[\"GT2\"],data[\"GT3\"],data[\"GT4\"],data[\"GT5\"],data[\"GT6\"],data[\"GT7\"],data[\"GT8\"],data[\"GT9\"],data[\"GT10\"]]\n",
    "model_predictions = [data['MP1'],data['MP2'],data['MP3'],data['MP4'],data['MP5'],data['MP6'],data['MP7'],data['MP8'],data['MP9'],data['MP10']]"
   ]
  },
  {
   "cell_type": "code",
   "execution_count": 4,
   "metadata": {},
   "outputs": [],
   "source": [
    "user_responses_1 = [np.array(data[\"C1\"]),np.array(data[\"C2\"]),np.array(data[\"C3\"]),np.array(data[\"C4\"]),np.array(data[\"C5\"]),np.array(data[\"C6\"]),np.array(data[\"C7\"]),np.array(data[\"C8\"]),np.array(data[\"C9\"]),np.array(data[\"C10\"])]\n",
    "user_responses_2 = [np.array(data[\"RE-C1\"]),np.array(data[\"RE-C2\"]),np.array(data[\"RE-C3\"]),np.array(data[\"RE-C4\"]),np.array(data[\"RE-C5\"]),np.array(data[\"RE-C6\"]),np.array(data[\"RE-C7\"]),np.array(data[\"RE-C8\"]),np.array(data[\"RE-C9\"]),np.array(data[\"RE-C10\"])]"
   ]
  },
  {
   "cell_type": "code",
   "execution_count": 5,
   "metadata": {},
   "outputs": [],
   "source": [
    "conf_1 = [np.array(data['CONF1']),np.array(data['CONF2']),np.array(data['CONF3']),np.array(data['CONF4']),np.array(data['CONF5']),np.array(data['CONF6']),np.array(data['CONF7']),np.array(data['CONF8']),np.array(data['CONF9']),np.array(data['CONF10'])]\n",
    "conf_2 = [np.array(data['RE-CONF1']),np.array(data['RE-CONF2']),np.array(data['RE-CONF3']),np.array(data['RE-CONF4']),np.array(data['RE-CONF5']),np.array(data['RE-CONF6']),np.array(data['RE-CONF7']),np.array(data['RE-CONF8']),np.array(data['RE-CONF9']),np.array(data['RE-CONF10']) ]"
   ]
  },
  {
   "cell_type": "code",
   "execution_count": 6,
   "metadata": {},
   "outputs": [],
   "source": [
    "data = np.array(data)"
   ]
  },
  {
   "cell_type": "code",
   "execution_count": 7,
   "metadata": {},
   "outputs": [],
   "source": [
    "for i in range(len(user_responses_1)):\n",
    "    for j in range(user_responses_1[i].shape[0]):\n",
    "        if \"TRUE\" == user_responses_1[i][j] or \" TRUE\" == user_responses_1[i][j]:\n",
    "            user_responses_1[i][j] = True\n",
    "        elif \"FALSE\" == user_responses_1[i][j] or \" FALSE\" == user_responses_1[i][j]:\n",
    "            user_responses_1[i][j] = False\n",
    "\n",
    "for i in range(len(user_responses_2)):\n",
    "    for j in range(user_responses_2[i].shape[0]):\n",
    "        if \"TRUE\" == user_responses_2[i][j] or \" TRUE\" == user_responses_2[i][j]:\n",
    "            user_responses_2[i][j] = True\n",
    "        elif \"FALSE\" == user_responses_2[i][j] or \" FALSE\" == user_responses_2[i][j]:\n",
    "            user_responses_2[i][j] = False"
   ]
  },
  {
   "cell_type": "code",
   "execution_count": 8,
   "metadata": {},
   "outputs": [],
   "source": [
    "journalists = [13, 17, 26, 27]\n",
    "ai_academics = [3,6,14,15,16,18,19,20,21,22,23,24,25,29]\n",
    "others = [0,1,2,4,5,7,8,9,10,11,12,28]"
   ]
  },
  {
   "cell_type": "code",
   "execution_count": 25,
   "metadata": {},
   "outputs": [],
   "source": [
    "def analysis_1(group):\n",
    "    num_init_correct = 0\n",
    "    init_conf = 0\n",
    "    num_after_correct = 0\n",
    "    after_conf = 0\n",
    "    avg_init_corrs = 0\n",
    "    avg_after_corrs = 0\n",
    "    avg_init_conf = 0\n",
    "    avg_after_conf = 0\n",
    "    for j in group:\n",
    "        num_init_correct = 0\n",
    "        num_after_correct = 0\n",
    "        init_conf = 0\n",
    "        after_conf = 0\n",
    "        for i in range(10):\n",
    "            if user_responses_1[i][j] == ground_truths[i].iloc[0]:\n",
    "                num_init_correct += 1\n",
    "                init_conf += conf_1[i][j]\n",
    "            if user_responses_2[i][j] == ground_truths[i].iloc[0]:\n",
    "                num_after_correct += 1\n",
    "                after_conf += conf_2[i][j]\n",
    "        avg_init_corrs += num_init_correct\n",
    "        avg_after_corrs += num_after_correct\n",
    "        avg_init_conf += init_conf/10\n",
    "        avg_after_conf += after_conf/10\n",
    "    avg_init_corrs /= len(group)\n",
    "    avg_after_corrs /= len(group)\n",
    "    avg_init_conf /= len(group)\n",
    "    avg_after_conf /= len(group)\n",
    "    return avg_init_corrs, avg_init_conf, avg_after_corrs, avg_after_conf"
   ]
  },
  {
   "cell_type": "code",
   "execution_count": 26,
   "metadata": {},
   "outputs": [
    {
     "name": "stdout",
     "output_type": "stream",
     "text": [
      "7.0 4.275\n",
      "8.25 5.275\n"
     ]
    }
   ],
   "source": [
    "avg_init_corrs, avg_init_conf, avg_after_corrs, avg_after_conf = analysis_1(journalists)\n",
    "print(avg_init_corrs,avg_init_conf)\n",
    "print(avg_after_corrs, avg_after_conf)"
   ]
  },
  {
   "cell_type": "code",
   "execution_count": 28,
   "metadata": {},
   "outputs": [
    {
     "name": "stdout",
     "output_type": "stream",
     "text": [
      "6.071428571428571 3.1714285714285713\n",
      "7.928571428571429 5.814285714285715\n"
     ]
    }
   ],
   "source": [
    "avg_init_corrs, avg_init_conf, avg_after_corrs, avg_after_conf = analysis_1(ai_academics)\n",
    "print(avg_init_corrs,avg_init_conf)\n",
    "print(avg_after_corrs, avg_after_conf)"
   ]
  },
  {
   "cell_type": "code",
   "execution_count": 29,
   "metadata": {},
   "outputs": [
    {
     "name": "stdout",
     "output_type": "stream",
     "text": [
      "5.666666666666667 3.9000000000000004\n",
      "7.166666666666667 5.791666666666668\n"
     ]
    }
   ],
   "source": [
    "avg_init_corrs, avg_init_conf, avg_after_corrs, avg_after_conf = analysis_1(others)\n",
    "print(avg_init_corrs,avg_init_conf)\n",
    "print(avg_after_corrs, avg_after_conf)"
   ]
  },
  {
   "cell_type": "code",
   "execution_count": null,
   "metadata": {},
   "outputs": [],
   "source": [
    "num_after_correct = 0\n",
    "user_init_acc = []\n",
    "for i in range(data.shape[0]):\n",
    "    num_init_correct = 0\n",
    "    for j in range(10):\n",
    "        if user_responses_2[j][i] == ground_truths[j].iloc[0]:\n",
    "            num_after_correct += 1\n",
    "    user_init_acc.append(num_after_correct*10)"
   ]
  },
  {
   "cell_type": "code",
   "execution_count": 9,
   "metadata": {},
   "outputs": [],
   "source": [
    "num_after_correct = 0\n",
    "user_after_acc = []\n",
    "for i in range(data.shape[0]):\n",
    "    num_after_correct = 0\n",
    "    for j in range(10):\n",
    "        if user_responses_2[j][i] == ground_truths[j].iloc[0]:\n",
    "            num_after_correct += 1\n",
    "    user_after_acc.append(num_after_correct*10)"
   ]
  },
  {
   "cell_type": "code",
   "execution_count": 22,
   "metadata": {},
   "outputs": [
    {
     "name": "stdout",
     "output_type": "stream",
     "text": [
      "[60, 70, 40, 40, 70, 50, 60, 60, 50, 70, 70, 20, 50, 70, 60, 60, 70, 60, 50, 70, 50, 60, 80, 60, 60, 50, 60, 90, 70, 80]\n",
      "[60, 80, 50, 90, 80, 80, 50, 80, 60, 70, 80, 60, 80, 90, 80, 60, 80, 90, 70, 80, 80, 80, 90, 70, 100, 90, 80, 70, 80, 90]\n"
     ]
    }
   ],
   "source": [
    "print(user_init_acc)\n",
    "print(user_after_acc)"
   ]
  },
  {
   "cell_type": "code",
   "execution_count": 14,
   "metadata": {},
   "outputs": [
    {
     "name": "stdout",
     "output_type": "stream",
     "text": [
      "Average acc before AI insight:  60.333333333333336\n",
      "Average acc after AI insight:  76.66666666666667\n"
     ]
    }
   ],
   "source": [
    "print(\"Average acc before AI insight: \", np.mean(user_init_acc))\n",
    "print(\"Average acc after AI insight: \", np.mean(user_after_acc))"
   ]
  },
  {
   "cell_type": "code",
   "execution_count": 40,
   "metadata": {},
   "outputs": [],
   "source": [
    "danger_changes = []\n",
    "for i in range(data.shape[0]):\n",
    "    if (user_responses_1[3][i] == ground_truths[3].iloc[0] and user_responses_2[3][i] != ground_truths[3].iloc[0]) or (user_responses_1[5][i] == ground_truths[5].iloc[0] and user_responses_2[5][i] != ground_truths[5].iloc[0]):\n",
    "        danger_changes.append(i)"
   ]
  },
  {
   "cell_type": "code",
   "execution_count": 41,
   "metadata": {},
   "outputs": [
    {
     "name": "stdout",
     "output_type": "stream",
     "text": [
      "Number of dangerous changes:  17\n",
      "['Ananya Lakara' 'Student (Sophomore in Highschool)'\n",
      " 'Lotus Valley International School,Gurugram ' True True True 6 True 7.0\n",
      " True True False 5 False 4 False False True 9 True 8 True False True 5\n",
      " False 6 True True True 7 True 8 False True False 4 True 5 False False\n",
      " False 6 False 9 False False False 8 False 9.0 True True False 7 True 10\n",
      " True True False 3 True 5]\n",
      "['Aayush Shah' 'Student' 'TU DELFT' True True False 8 True 7.0 True True\n",
      " True 8 True 10 False False False 8 False 10 True False False 4 False 8\n",
      " True True True 6 True 9 False True False 7 True 1 False False False 8\n",
      " False 10 False False False 6 False 8.0 True True True 5 True 8 True True\n",
      " False 6 True 8]\n",
      "['Jana Zeller' 'Student' 'University of Oxford' True True False 7 False\n",
      " 6.0 True True True 5 True 6 False False True 8 True 6 True False True 6\n",
      " False 3 True True True 5 True 8 False True False 3 True 2 False False\n",
      " False 4 False 6 False False False 3 False 6.0 True True False 3 True 3\n",
      " True True False 3 False 3]\n",
      "['Manu Sriram Kamath' 'Creative Director- Marketing' 'Guardian Group' True\n",
      " True True 5 True 8.0 True True True 9 True 10 False False True 5 False 5\n",
      " True False False 5 False 8 True True True 5 True 10 False True False 5\n",
      " True 8 False False False 5 False 7 False False False 7 False 7.0 True\n",
      " True False 5 True 5 True True False 5 True 5]\n",
      "['Harshil ' 'Student ' nan True True False 4 False 3.0 True True True 5\n",
      " True 7 False False True 9 True 8 True False False 5 False 5 True True\n",
      " True 6 True 6 False True False 4 True 2 False False False 6 False 8 False\n",
      " False True 3 False 3.0 True True True 5 True 7 True True False 2 True 1]\n",
      "[\"Sinead O'Brien\" 'Executive Product Manager - AI Research' 'BBC' True\n",
      " True True 6 True 10.0 True True False 6 True 10 False False True 8 False\n",
      " 10 True False True 6 False 10 True True True 6 True 10 False True False 6\n",
      " True 10 False False False 6 False 10 False False False 6 False 10.0 True\n",
      " True False 6 True 10 True True True 6 True 10]\n",
      "['Jannick Kremer' \"Master's Student in Advanced Computer Science\"\n",
      " 'University of Oxford' True True True 4 True 7.0 True True True 3 True 8\n",
      " False False True 6 False 3 True False False 6 False 6 True True True 7\n",
      " True 10 False True False 5 True 3 False False False 4 False 6 False False\n",
      " False 8 False 9.0 True True False 5 True 7 True True False 3 True 4]\n",
      "['Christian' 'Student' '/' True True False 3 False 0.0 True True True 7\n",
      " True 10 False False True 6 False 4 True False False 3 False 4 True True\n",
      " True 7 True 10 False True False 4 True 7 False False False 4 False 7\n",
      " False False False 7 False 8.0 True True True 6 True 8 True True False 5\n",
      " False 9]\n",
      "['Zainab' 'Student' 'University of Oxford ' True True True 6 True 10.0\n",
      " True True False 3 True 7 False False False 1 False 10 True False False 7\n",
      " False 10 True True True 7 True 10 False True False 4 True 7 False False\n",
      " False 3 False 7 False False True 3 False 3.0 True True True 5 True 10\n",
      " True True True 2 True 9]\n",
      "['Aqib Mahfuz ' 'Student' 'Oxford' True True False 5 False 8.0 True True\n",
      " False 4 True 7 False False False 0 False 8 True False False 6 False 8\n",
      " True True True 5 True 10 False True False 5 True 8 False False False 1\n",
      " False 7 False False False 8 False 8.0 True True False 7 True 6 True True\n",
      " False 1 True 4]\n",
      "['Afra Nawar' 'Student' 'University of Oxford' True True True 6 True 8.0\n",
      " True True True 8 True 10 False False False 6 False 7 True False False 8\n",
      " False 10 True True True 8 True 8 False True False 8 True 5 False False\n",
      " False 6 False 8 False False False 7 False 8.0 True True False 5 True 5\n",
      " True True False 6 True 4]\n",
      "['Magnus Sesodia' 'Researcher' 'Oxford University' True True False 4 True\n",
      " 7.0 True True True 4 True 8 False False True 6 False 6 True False True 8\n",
      " False 6 True True True 4 True 8 False True True 4 True 8 False False True\n",
      " 3 False 7 False False False 4 False 8.0 True True False 4 True 9 True\n",
      " True True 4 True 8]\n",
      "['Jingjie Yang' 'Phd student' 'Department of Computer Science, Oxford'\n",
      " True True False 6 True 1.0 True True True 5 True 5 False False False 9\n",
      " False 10 True False False 7 False 8 True True True 3 True 6 False True\n",
      " False 3 True 5 False False False 7 False 10 False False False 7 False\n",
      " 10.0 True True False 10 True 7 True True False 8 True 5]\n",
      "['Jack Foxabbott' 'student' 'Oxford' True True False 6 True 9.0 True True\n",
      " True 2 True 9 False False False 0 False 7 True False True 2 False 8 True\n",
      " True True 3 True 10 False True False 5 False 3 False False False 0 False\n",
      " 7 False False False 7 False 10.0 True True True 7 True 10 True True False\n",
      " 2 True 8]\n",
      "['Robin Park' 'PhD Student' 'University of Oxford' True True False 5 True\n",
      " 7.0 True True False 5 True 7 False False True 4 False 7 True False True 7\n",
      " True 4 True True True 7 True 8 False True False 6 True 7 False False\n",
      " False 5 False 7 False False False 7 False 8.0 True True False 6 True 8\n",
      " True True False 5 True 7]\n",
      "['Laura Ellis' 'Journalist/TechFALSElogist' 'BBC' True True False 6 True\n",
      " 10.0 True True True 9 True 10 False False True 5 False 8 True False True\n",
      " 8 False 6 True True False 3 True 6 False True False 7 True 6 False False\n",
      " False 4 False 8 False False False 7 False 8.0 True True True 5 True 8\n",
      " True True False 3 True 6]\n",
      "['Claire Timms' 'Journalist' 'BBC' True True True 7 False 7.0 True True\n",
      " True 8 True 8 False False True 8 True 8 True False True 9 True 8 True\n",
      " True True 7 True 8 False True False 8 True 7 False False False 7 False 7\n",
      " False False False 9 False 8.0 True True True 8 True 9 True True True 8\n",
      " True 8]\n"
     ]
    }
   ],
   "source": [
    "print(\"Number of dangerous changes: \", len(danger_changes))\n",
    "for i in danger_changes:\n",
    "    print(data[i])"
   ]
  },
  {
   "cell_type": "code",
   "execution_count": 42,
   "metadata": {},
   "outputs": [],
   "source": [
    "danger_changes = []\n",
    "more_dangerous_changes = []\n",
    "for i in range(data.shape[0]):\n",
    "    if (user_responses_1[3][i] == ground_truths[3].iloc[0] and user_responses_2[3][i] != ground_truths[3].iloc[0]):\n",
    "        danger_changes.append(i)\n",
    "    if user_responses_1[5][i] == ground_truths[5].iloc[0] and user_responses_2[5][i] != ground_truths[5].iloc[0]:\n",
    "        more_dangerous_changes.append(i)"
   ]
  },
  {
   "cell_type": "code",
   "execution_count": 43,
   "metadata": {},
   "outputs": [
    {
     "name": "stdout",
     "output_type": "stream",
     "text": [
      "6\n",
      "15\n"
     ]
    }
   ],
   "source": [
    "print(len(danger_changes))\n",
    "print(len(more_dangerous_changes))"
   ]
  },
  {
   "cell_type": "code",
   "execution_count": 9,
   "metadata": {},
   "outputs": [],
   "source": [
    "danger_changes = []\n",
    "more_dangerous_changes = []\n",
    "num_conf_change = 0\n",
    "for i in range(data.shape[0]):\n",
    "    if (user_responses_1[3][i] == ground_truths[3].iloc[0] and user_responses_2[3][i] == ground_truths[3].iloc[0]):\n",
    "        if conf_2[3][i] < conf_1[3][i]:\n",
    "            num_conf_change += 1\n",
    "    if user_responses_1[5][i] == ground_truths[5].iloc[0] and user_responses_2[5][i] == ground_truths[5].iloc[0]:\n",
    "        if conf_2[5][i] < conf_2[5][i]:\n",
    "            num_conf_change += 1"
   ]
  },
  {
   "cell_type": "code",
   "execution_count": 10,
   "metadata": {},
   "outputs": [
    {
     "data": {
      "text/plain": [
       "4"
      ]
     },
     "execution_count": 10,
     "metadata": {},
     "output_type": "execute_result"
    }
   ],
   "source": [
    "num_conf_change"
   ]
  },
  {
   "cell_type": "code",
   "execution_count": null,
   "metadata": {},
   "outputs": [],
   "source": []
  }
 ],
 "metadata": {
  "kernelspec": {
   "display_name": "experiments",
   "language": "python",
   "name": "python3"
  },
  "language_info": {
   "codemirror_mode": {
    "name": "ipython",
    "version": 3
   },
   "file_extension": ".py",
   "mimetype": "text/x-python",
   "name": "python",
   "nbconvert_exporter": "python",
   "pygments_lexer": "ipython3",
   "version": "3.12.2"
  }
 },
 "nbformat": 4,
 "nbformat_minor": 2
}
