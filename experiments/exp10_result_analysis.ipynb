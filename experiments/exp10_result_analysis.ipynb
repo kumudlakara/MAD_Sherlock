{
 "cells": [
  {
   "cell_type": "code",
   "execution_count": 1,
   "metadata": {},
   "outputs": [],
   "source": [
    "import json\n",
    "import numpy as np"
   ]
  },
  {
   "cell_type": "code",
   "execution_count": 14,
   "metadata": {},
   "outputs": [],
   "source": [
    "with open(\"../scripts/results1_no_web_access.json\", \"r\") as f:\n",
    "    data = json.load(f)"
   ]
  },
  {
   "cell_type": "code",
   "execution_count": 16,
   "metadata": {},
   "outputs": [
    {
     "data": {
      "text/plain": [
       "{'id': 714504,\n",
       " 'image_id': 1670772,\n",
       " 'similarity_score': 0.5850415825843811,\n",
       " 'source_dataset': 2,\n",
       " 'falsified': 'False',\n",
       " 'output': {'model_0': \"I agree with your assessment that the image is related to the protest described in the text. The attire of the individuals, the banner they are holding, and the location all align with the information provided. The watermark or logo in the bottom right corner could potentially be a sign of the photographer or the source of the image, but without more context, it is not possible to determine the exact source or the photographer's intent.\\n\\nGiven the visual evidence and the context provided, it is reasonable to conclude that the image is not being used out of context to spread misinformation. Therefore, the image is not being used out of context to spread misinformation.\\n\\nMISINFORMATION? NO<|im_end|>\",\n",
       "  'model_1': \"I agree with your assessment that the image is related to the protest described in the text. The attire of the individuals, the banner they are holding, and the location all align with the information provided. The watermark or logo in the bottom right corner could potentially be a sign of the photographer or the source of the image, but without more context, it is not possible to determine the exact source or the photographer's intent.\\n\\nGiven the visual evidence and the context provided, it is reasonable to conclude that the image is not being used out of context to spread misinformation. Therefore, the image is not being used out of context to spread misinformation.\\n\\nMISINFORMATION? NO<|im_end|>\"}}"
      ]
     },
     "execution_count": 16,
     "metadata": {},
     "output_type": "execute_result"
    }
   ],
   "source": [
    "data[1]"
   ]
  },
  {
   "cell_type": "code",
   "execution_count": 5,
   "metadata": {},
   "outputs": [],
   "source": [
    "visual_news_data = json.load(open(\"../../datasets/visualnews/origin/data.json\"))\n",
    "visual_news_data_mapping = {ann[\"id\"]: ann for ann in visual_news_data}\n",
    "\n",
    "test_data = json.load(open(\"../../news_clippings/news_clippings/data/merged_balanced/test.json\"))\n",
    "annotations = test_data[\"annotations\"]"
   ]
  },
  {
   "cell_type": "code",
   "execution_count": 23,
   "metadata": {},
   "outputs": [],
   "source": [
    "num_correct = 0\n",
    "for i in range(len(data)):\n",
    "    if bool(data[i]['falsified']) == annotations[i]['falsified']:\n",
    "        num_correct += 1"
   ]
  },
  {
   "cell_type": "code",
   "execution_count": 26,
   "metadata": {},
   "outputs": [
    {
     "name": "stdout",
     "output_type": "stream",
     "text": [
      "Accuracy: 0.5000\n"
     ]
    }
   ],
   "source": [
    "print(\"Accuracy: {:.4f}\".format(num_correct/len(data)))\n"
   ]
  },
  {
   "cell_type": "code",
   "execution_count": null,
   "metadata": {},
   "outputs": [],
   "source": []
  }
 ],
 "metadata": {
  "kernelspec": {
   "display_name": "experiments",
   "language": "python",
   "name": "python3"
  },
  "language_info": {
   "codemirror_mode": {
    "name": "ipython",
    "version": 3
   },
   "file_extension": ".py",
   "mimetype": "text/x-python",
   "name": "python",
   "nbconvert_exporter": "python",
   "pygments_lexer": "ipython3",
   "version": "3.12.2"
  }
 },
 "nbformat": 4,
 "nbformat_minor": 2
}
