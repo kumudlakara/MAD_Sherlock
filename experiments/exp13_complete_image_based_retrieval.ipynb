{
 "cells": [
  {
   "cell_type": "markdown",
   "metadata": {},
   "source": [
    "This notebook contains the initial experimentation code for generating the final summary of articles retrieved for a given image using the bing visual search api. This is done for the test data (first 1k samples). These summaries will be stored to provide initial context for the debating models."
   ]
  },
  {
   "cell_type": "code",
   "execution_count": 1,
   "metadata": {},
   "outputs": [],
   "source": [
    "import sys\n",
    "sys.path.append(\"..\")\n",
    "\n",
    "import http.client, urllib.parse\n",
    "import requests\n",
    "import json\n",
    "import os.path\n",
    "\n",
    "BASE_URI = \"https://api.bing.microsoft.com/v7.0/images/visualsearch\"\n",
    "SUBSCRIPTION_KEY = 'fcbb57be03f64cf191aeb1ba7835fc04'\n",
    "\n",
    "from utils.data import get_data\n",
    "from utils.external_retrieval import get_summary, get_webpage_text"
   ]
  },
  {
   "cell_type": "code",
   "execution_count": 2,
   "metadata": {},
   "outputs": [],
   "source": [
    "def get_urls(file):\n",
    "    matching_urls = []\n",
    "    # Construct the request headers\n",
    "    headers = {\n",
    "        \"Ocp-Apim-Subscription-Key\": SUBSCRIPTION_KEY\n",
    "    }\n",
    "\n",
    "    # Send the POST request\n",
    "    response = requests.post(\n",
    "        BASE_URI,\n",
    "        headers=headers,\n",
    "        files=file\n",
    "    )\n",
    "\n",
    "    # Check if the request was successful\n",
    "    if response.status_code == 200:\n",
    "        # Process the response data\n",
    "        data = response.json()\n",
    "        #print(data)\n",
    "        result_list = []\n",
    "        if len(data['tags'][0]['actions'][0]['data']['value']) == 0:\n",
    "            result_list = data['tags'][0]['actions'][2]['data']['value']\n",
    "        else:\n",
    "            result_list = data['tags'][0]['actions'][0]['data']['value']\n",
    "        for res in result_list:\n",
    "            if len(matching_urls) == 3:\n",
    "                break\n",
    "            else:\n",
    "                matching_urls.append(res['hostPageUrl'])\n",
    "        return matching_urls\n",
    "    else:\n",
    "        # Handle the error\n",
    "        return matching_urls\n",
    "        #print(f\"Error: {response.status_code} - {response.text}\")"
   ]
  },
  {
   "cell_type": "code",
   "execution_count": 44,
   "metadata": {},
   "outputs": [
    {
     "name": "stdout",
     "output_type": "stream",
     "text": [
      "matching_urls:  ['https://www.theconstructionindex.co.uk/news/view/mps-call-for-government-action-on-blacklisting', 'https://socialistworker.co.uk/news/tens-of-thousands-more-names-could-have-been-on-blacklists/', 'https://www.theguardian.com/law/2021/may/27/recruiters-urged-to-clamp-down-on-exploitation-via-umbrella-companies']\n"
     ]
    },
    {
     "data": {
      "application/vnd.jupyter.widget-view+json": {
       "model_id": "8231dadd126e429fb582ada728ab64c4",
       "version_major": 2,
       "version_minor": 0
      },
      "text/plain": [
       "Loading checkpoint shards:   0%|          | 0/3 [00:00<?, ?it/s]"
      ]
     },
     "metadata": {},
     "output_type": "display_data"
    },
    {
     "name": "stderr",
     "output_type": "stream",
     "text": [
      "/homes/55/kumud/anaconda/envs/experiments/lib/python3.12/site-packages/langchain_core/_api/deprecation.py:119: LangChainDeprecationWarning: The method `Chain.run` was deprecated in langchain 0.1.0 and will be removed in 0.3.0. Use invoke instead.\n",
      "  warn_deprecated(\n",
      "Both `max_new_tokens` (=1000) and `max_length`(=3000) seem to have been set. `max_new_tokens` will take precedence. Please refer to the documentation for more information. (https://huggingface.co/docs/transformers/main/en/main_classes/text_generation)\n"
     ]
    },
    {
     "name": "stdout",
     "output_type": "stream",
     "text": [
      "Found 3 search results.\n"
     ]
    }
   ],
   "source": [
    "for i in range(1):\n",
    "    image, caption, image_path, annotation = get_data(i)\n",
    "    file = {'image' : ('myfile', open(image_path, 'rb'))}\n",
    "    matching_urls = get_urls(file)\n",
    "    print(\"matching_urls: \", matching_urls)\n",
    "    search_result = get_summary(matching_urls)"
   ]
  },
  {
   "cell_type": "code",
   "execution_count": 3,
   "metadata": {},
   "outputs": [],
   "source": [
    "matching_urls = ['https://www.theconstructionindex.co.uk/news/view/mps-call-for-government-action-on-blacklisting', 'https://socialistworker.co.uk/news/tens-of-thousands-more-names-could-have-been-on-blacklists/', 'https://www.theguardian.com/law/2021/may/27/recruiters-urged-to-clamp-down-on-exploitation-via-umbrella-companies']"
   ]
  },
  {
   "cell_type": "code",
   "execution_count": 4,
   "metadata": {},
   "outputs": [
    {
     "data": {
      "application/vnd.jupyter.widget-view+json": {
       "model_id": "3da2ec9235dc49569d9c55bb90e5c7f9",
       "version_major": 2,
       "version_minor": 0
      },
      "text/plain": [
       "Loading checkpoint shards:   0%|          | 0/3 [00:00<?, ?it/s]"
      ]
     },
     "metadata": {},
     "output_type": "display_data"
    },
    {
     "name": "stderr",
     "output_type": "stream",
     "text": [
      "/homes/55/kumud/anaconda/envs/experiments/lib/python3.12/site-packages/langchain_core/_api/deprecation.py:119: LangChainDeprecationWarning: The class `LLMChain` was deprecated in LangChain 0.1.17 and will be removed in 0.3.0. Use RunnableSequence, e.g., `prompt | llm` instead.\n",
      "  warn_deprecated(\n",
      "/homes/55/kumud/anaconda/envs/experiments/lib/python3.12/site-packages/langchain_core/_api/deprecation.py:119: LangChainDeprecationWarning: The method `Chain.run` was deprecated in langchain 0.1.0 and will be removed in 0.3.0. Use invoke instead.\n",
      "  warn_deprecated(\n",
      "Both `max_new_tokens` (=1000) and `max_length`(=3000) seem to have been set. `max_new_tokens` will take precedence. Please refer to the documentation for more information. (https://huggingface.co/docs/transformers/main/en/main_classes/text_generation)\n"
     ]
    },
    {
     "name": "stdout",
     "output_type": "stream",
     "text": [
      "Found 3 search results.\n"
     ]
    }
   ],
   "source": [
    "search_result = get_summary(matching_urls)"
   ]
  },
  {
   "cell_type": "code",
   "execution_count": 5,
   "metadata": {},
   "outputs": [
    {
     "name": "stdout",
     "output_type": "stream",
     "text": [
      "SUMMARY:\n",
      "                    - The House of Commons Scottish Affairs committee has been investigating the use of the Consulting Association by major contractors to prevent suspected \"troublemakers\" from getting jobs in the industry.\n",
      "                    - The committee has described the practice as an \"organized conspiracy\" by big construction firms to discriminate against workers who raised legitimate grievances over health and safety and other industrial issues.\n",
      "                    - The committee has received written evidence and held a formal committee hearing on the 3rd of July with Gail Cartmail of Unite the Union, who has given what they believe to be clear proof that blacklisting for trade union and health and safety activities has been going on within the Crossrail project.\n",
      "                    - The Consulting Association was shut down by the Information Commissioner in 2009.\n",
      "                    - The scale of the blacklist may be far larger than previously thought and goes well beyond the construction industry.\n",
      "                    - Evidence from the ICO at a Scottish select committee inquiry into blacklisting suggests there is far more yet to come to light.\n",
      "                    - The ICO has admitted it \"could have done more\" to contact the workers it knows are on the blacklist, and that companies may have lied to its investigators about their use of the blacklist.\n",
      "                    - The Recruitment and Employment Confederation (REC) has told its members to clamp down on tax abuse and exploitation of workers via umbrella companies, amid growing pressure for regulation of temporary labor.\n",
      "                    - The use of umbrella companies is legal, but unscrupulous providers have been found to skim money from workers through dubious means like hidden fees or holding back holiday pay.\n",
      "                    - The issue has caught the attention of MPs, unions, and campaigners, and there is a need for urgent action to regulate umbrella companies to give \"greater protection to the some 600,000 people who are being exposed to employment rights abuses and lost income through unethical, but not yet illegal payslip skims and scams.\"\n"
     ]
    }
   ],
   "source": [
    "print(search_result)"
   ]
  },
  {
   "cell_type": "code",
   "execution_count": 9,
   "metadata": {},
   "outputs": [
    {
     "name": "stdout",
     "output_type": "stream",
     "text": [
      "Found 3 search results.\n"
     ]
    }
   ],
   "source": [
    "texts = []\n",
    "for matching_url in matching_urls:\n",
    "    texts.append(get_webpage_text(matching_url))\n",
    "text = \"\"\n",
    "print(\"Found {} search results.\".format(len(texts)))\n",
    "for i in range(len(texts)):\n",
    "    #only take top k=3 articles\n",
    "    if i == 3: \n",
    "        break\n",
    "    if \"the\" not in texts[i]:\n",
    "        #naive way to ensure text is in English\n",
    "        continue\n",
    "    text += \"\\n\\n\"\n",
    "    text += texts[i]"
   ]
  },
  {
   "cell_type": "code",
   "execution_count": null,
   "metadata": {},
   "outputs": [],
   "source": [
    "import base64\n",
    "import vertexai\n",
    "from vertexai.generative_models import GenerativeModel, Part, FinishReason\n",
    "import vertexai.preview.generative_models as generative_models\n",
    "\n",
    "def generate():\n",
    "  vertexai.init(project=\"thesis-426010\", location=\"us-central1\")\n",
    "  model = GenerativeModel(\n",
    "    \"gemini-1.5-flash-001\",\n",
    "  )\n",
    "  responses = model.generate_content(\n",
    "      [text1],\n",
    "      generation_config=generation_config,\n",
    "      safety_settings=safety_settings,\n",
    "      stream=True,\n",
    "  )\n",
    "\n",
    "  for response in responses:\n",
    "    print(response.text, end=\"\")\n",
    "\n",
    "text1 = \"\"\"Provide a brief summary for the following article:\n",
    "\n",
    "LONDON, England (Reuters) -- Harry Potter star Daniel Radcliffe gains access to a reported £20 million ($41.1 million) fortune as he turns 18 on Monday, but he insists the money won\\'t cast a spell on him. Daniel Radcliffe as Harry Potter in \\\"Harry Potter and the Order of the Phoenix\\\" To the disappointment of gossip columnists around the world, the young actor says he has no plans to fritter his cash away on fast cars, drink and celebrity parties. \\\"I don\\'t plan to be one of those people who, as soon as they turn 18, suddenly buy themselves a massive sports car collection or something similar,\\\" he told an Australian interviewer earlier this month. \\\"I don\\'t think I\\'ll be particularly extravagant. \\\"The things I like buying are things that cost about 10 pounds -- books and CDs and DVDs.\\\" At 18, Radcliffe will be able to gamble in a casino, buy a drink in a pub or see the horror film \\\"Hostel: Part II,\\\" currently six places below his number one movie on the UK box office chart. Details of how he\\'ll mark his landmark birthday are under wraps. His agent and publicist had no comment on his plans. \\\"I\\'ll definitely have some sort of party,\\\" he said in an interview. \\\"Hopefully none of you will be reading about it.\\\" Radcliffe\\'s earnings from the first five Potter films have been held in a trust fund which he has not been able to touch. Despite his growing fame and riches, the actor says he is keeping his feet firmly on the ground. \\\"People are always looking to say \\'kid star goes off the rails,\\'\\\" he told reporters last month. \\\"But I try very hard not to go that way because it would be too easy for them.\\\" His latest outing as the boy wizard in \\\"Harry Potter and the Order of the Phoenix\\\" is breaking records on both sides of the Atlantic and he will reprise the role in the last two films. Watch I-Reporter give her review of Potter\\'s latest » . There is life beyond Potter, however. The Londoner has filmed a TV movie called \\\"My Boy Jack,\\\" about author Rudyard Kipling and his son, due for release later this year. He will also appear in \\\"December Boys,\\\" an Australian film about four boys who escape an orphanage. Earlier this year, he made his stage debut playing a tortured teenager in Peter Shaffer\\'s \\\"Equus.\\\" Meanwhile, he is braced for even closer media scrutiny now that he\\'s legally an adult: \\\"I just think I\\'m going to be more sort of fair game,\\\" he told Reuters. E-mail to a friend . Copyright 2007 Reuters. All rights reserved.This material may not be published, broadcast, rewritten, or redistributed.\"\"\"\n",
    "\n",
    "generation_config = {\n",
    "    \"max_output_tokens\": 768,\n",
    "    \"temperature\": 0.2,\n",
    "    \"top_p\": 0.8,\n",
    "}\n",
    "\n",
    "safety_settings = {\n",
    "    generative_models.HarmCategory.HARM_CATEGORY_HATE_SPEECH: generative_models.HarmBlockThreshold.BLOCK_MEDIUM_AND_ABOVE,\n",
    "    generative_models.HarmCategory.HARM_CATEGORY_DANGEROUS_CONTENT: generative_models.HarmBlockThreshold.BLOCK_MEDIUM_AND_ABOVE,\n",
    "    generative_models.HarmCategory.HARM_CATEGORY_SEXUALLY_EXPLICIT: generative_models.HarmBlockThreshold.BLOCK_MEDIUM_AND_ABOVE,\n",
    "    generative_models.HarmCategory.HARM_CATEGORY_HARASSMENT: generative_models.HarmBlockThreshold.BLOCK_MEDIUM_AND_ABOVE,\n",
    "}\n",
    "\n",
    "generate()\n",
    "\n"
   ]
  }
 ],
 "metadata": {
  "kernelspec": {
   "display_name": "experiments",
   "language": "python",
   "name": "python3"
  },
  "language_info": {
   "codemirror_mode": {
    "name": "ipython",
    "version": 3
   },
   "file_extension": ".py",
   "mimetype": "text/x-python",
   "name": "python",
   "nbconvert_exporter": "python",
   "pygments_lexer": "ipython3",
   "version": "3.12.2"
  }
 },
 "nbformat": 4,
 "nbformat_minor": 2
}
