{
 "cells": [
  {
   "cell_type": "markdown",
   "metadata": {},
   "source": [
    "This notebook contains the initial experimentation code for generating the final summary of articles retrieved for a given image using the bing visual search api. This is done for the test data (first 1k samples). These summaries will be stored to provide initial context for the debating models."
   ]
  },
  {
   "cell_type": "code",
   "execution_count": 1,
   "metadata": {},
   "outputs": [],
   "source": [
    "import sys\n",
    "sys.path.append(\"..\")\n",
    "\n",
    "import http.client, urllib.parse\n",
    "import requests\n",
    "import json\n",
    "import os.path\n",
    "\n",
    "BASE_URI = \"https://api.bing.microsoft.com/v7.0/images/visualsearch\"\n",
    "SUBSCRIPTION_KEY = '***'\n",
    "\n",
    "from utils.data import get_data\n",
    "from utils.external_retrieval import get_summary, get_webpage_text"
   ]
  },
  {
   "cell_type": "code",
   "execution_count": 2,
   "metadata": {},
   "outputs": [],
   "source": [
    "def get_urls(file):\n",
    "    matching_urls = []\n",
    "    # Construct the request headers\n",
    "    headers = {\n",
    "        \"Ocp-Apim-Subscription-Key\": SUBSCRIPTION_KEY\n",
    "    }\n",
    "\n",
    "    # Send the POST request\n",
    "    response = requests.post(\n",
    "        BASE_URI,\n",
    "        headers=headers,\n",
    "        files=file\n",
    "    )\n",
    "\n",
    "    # Check if the request was successful\n",
    "    if response.status_code == 200:\n",
    "        # Process the response data\n",
    "        data = response.json()\n",
    "        #print(data)\n",
    "        result_list = []\n",
    "        if len(data['tags'][0]['actions'][0]['data']['value']) == 0:\n",
    "            result_list = data['tags'][0]['actions'][2]['data']['value']\n",
    "        else:\n",
    "            result_list = data['tags'][0]['actions'][0]['data']['value']\n",
    "        for res in result_list:\n",
    "            if len(matching_urls) == 3:\n",
    "                break\n",
    "            else:\n",
    "                matching_urls.append(res['hostPageUrl'])\n",
    "        return matching_urls\n",
    "    else:\n",
    "        # Handle the error\n",
    "        return matching_urls\n",
    "        #print(f\"Error: {response.status_code} - {response.text}\")"
   ]
  }
 ],
 "metadata": {
  "kernelspec": {
   "display_name": "experiments",
   "language": "python",
   "name": "python3"
  },
  "language_info": {
   "codemirror_mode": {
    "name": "ipython",
    "version": 3
   },
   "file_extension": ".py",
   "mimetype": "text/x-python",
   "name": "python",
   "nbconvert_exporter": "python",
   "pygments_lexer": "ipython3",
   "version": "3.12.2"
  }
 },
 "nbformat": 4,
 "nbformat_minor": 2
}
