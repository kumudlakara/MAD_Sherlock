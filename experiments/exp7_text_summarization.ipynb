{
 "cells": [
  {
   "cell_type": "code",
   "execution_count": 78,
   "metadata": {},
   "outputs": [],
   "source": [
    "import sys\n",
    "sys.path.append('..')\n",
    "\n",
    "import torch\n",
    "from transformers import AutoTokenizer, pipeline\n",
    "from langchain import LLMChain, HuggingFacePipeline, PromptTemplate\n",
    "from utils.external_retrieval import get_matching_urls, get_webpage_text"
   ]
  },
  {
   "cell_type": "code",
   "execution_count": 79,
   "metadata": {},
   "outputs": [],
   "source": [
    "MODEL_NAME = \"meta-llama/Llama-2-7b-chat-hf\"\n",
    "tokenizer = AutoTokenizer.from_pretrained(MODEL_NAME)"
   ]
  },
  {
   "cell_type": "code",
   "execution_count": 80,
   "metadata": {},
   "outputs": [
    {
     "data": {
      "application/vnd.jupyter.widget-view+json": {
       "model_id": "acf16f3ccb4340cd80bda80158d76137",
       "version_major": 2,
       "version_minor": 0
      },
      "text/plain": [
       "Loading checkpoint shards:   0%|          | 0/2 [00:00<?, ?it/s]"
      ]
     },
     "metadata": {},
     "output_type": "display_data"
    }
   ],
   "source": [
    "pipeline = pipeline(\n",
    "    \"text-generation\",\n",
    "    model=MODEL_NAME,\n",
    "    tokenizer=tokenizer,\n",
    "    torch_dtype=torch.bfloat16,\n",
    "    trust_remote_code=True,\n",
    "    device_map=\"auto\",\n",
    "    max_length=3000,\n",
    "    max_new_tokens=1000,\n",
    "    do_sample=True,\n",
    "    top_k=10,\n",
    "    num_return_sequences=1,\n",
    "    eos_token_id=tokenizer.eos_token_id\n",
    ")"
   ]
  },
  {
   "cell_type": "code",
   "execution_count": 81,
   "metadata": {},
   "outputs": [],
   "source": [
    "llm = HuggingFacePipeline(pipeline=pipeline, model_kwargs={\"temperature\":0})"
   ]
  },
  {
   "cell_type": "code",
   "execution_count": 82,
   "metadata": {},
   "outputs": [],
   "source": [
    "prompt_template = \"\"\"\n",
    "                Write a combined summary of the following text delimited by triple backticks.\n",
    "                Your response should cover all keypoints in the text.\n",
    "                ```{text}```\n",
    "                SUMMARY:\n",
    "                \"\"\""
   ]
  },
  {
   "cell_type": "code",
   "execution_count": 83,
   "metadata": {},
   "outputs": [],
   "source": [
    "prompt = PromptTemplate(template=prompt_template, input_variables=[\"text\"])\n",
    "llm_chain = LLMChain(prompt=prompt, llm=llm)"
   ]
  },
  {
   "cell_type": "code",
   "execution_count": 48,
   "metadata": {},
   "outputs": [
    {
     "name": "stdout",
     "output_type": "stream",
     "text": [
      "Searching the web now!\n"
     ]
    }
   ],
   "source": [
    "matching_urls = get_matching_urls(5)\n",
    "texts = []\n",
    "for i in matching_urls:\n",
    "    texts.append(get_webpage_text(matching_url=i))"
   ]
  },
  {
   "cell_type": "code",
   "execution_count": 49,
   "metadata": {},
   "outputs": [
    {
     "data": {
      "text/plain": [
       "['https://www.bbc.com/news/uk-scotland-26765231',\n",
       " 'http://stadiumdb.com/news/2014/07/glasgow_commonwealth_games_kick_off',\n",
       " 'http://stadiony.net/aktualnosci/2014/07/glasgow_startuja_igrzyska_wspolnoty_2014']"
      ]
     },
     "execution_count": 49,
     "metadata": {},
     "output_type": "execute_result"
    }
   ],
   "source": [
    "matching_urls"
   ]
  },
  {
   "cell_type": "code",
   "execution_count": 86,
   "metadata": {},
   "outputs": [],
   "source": [
    "text = \"\"\n",
    "for i in range(3):\n",
    "    text += \"\\n\\nARTICLE-\"+str(i+1)+\": \"\n",
    "    if \"the\" not in texts[i]:\n",
    "        continue\n",
    "    texts[i] = ''.join(texts[i].split('\\n\\n'))\n",
    "    text += texts[i]   \n"
   ]
  },
  {
   "cell_type": "code",
   "execution_count": 87,
   "metadata": {},
   "outputs": [
    {
     "name": "stdout",
     "output_type": "stream",
     "text": [
      "\n",
      "\n",
      "ARTICLE-1: Glasgow 2014: What will the legacy of the Commonwealth Games legacy be? - BBC NewsBBC HomepageSkip to contentAccessibility HelpYour accountNotificationsHomeNewsSportWeatheriPlayerSoundsBitesizeMore menuMore menuSearch BBCHomeNewsSportWeatheriPlayerSoundsBitesizeCBBCCBeebiesFoodClose menuBBC NewsMenuHomeElection 2024InDepthIsrael-Gaza warCost of LivingWar in UkraineClimateUKWorldBusinessMorePoliticsCultureTechScienceHealthFamily & EducationIn PicturesNewsbeatBBC VerifyDisabilityScotlandScotland PoliticsScotland BusinessEdinburgh, Fife & EastGlasgow & WestHighlands & IslandsNE, Orkney & ShetlandSouthTayside & CentralAlbaGlasgow 2014: What will the legacy of the Commonwealth Games legacy be?Published27 March 2014Shareclose panelShare pageCopy linkAbout sharingImage source, PAImage caption, Glasgow's Commonwealth Games will open with a blaze of colour and spectacle, but what will be their lasting legacy to the city?By Lisa SummersCommonwealth Games reporter, BBC ScotlandIt was in 2002 that Manchester played host to the Commonwealth Games. Many say that it was the city that set the precedent of creating a 'legacy\" from a major sporting event.  In the last part of our series on the Commonwealth Games and regeneration, Lisa Summers looks at what Glasgow can learn from Manchester, where development continues 12 years down the line.Like Glasgow, Manchester is a city built on heavy industry. It too has issues with poverty and high unemployment, and it is a city that loves its sport.In 2002, the Commonwealth Games kicked off a huge regeneration project in the east of Manchester - concentrated in the areas of Clayton and Beswick.At the heart of that regeneration was \"Sport City\", home now to the Ethiad, Manchester City Football Club's home ground, the National Squash centre, an athletics track, tennis centre and across the road, the \"medal factory\" as they call it, the Velodrome.  Even now, the development continues. From a vantage point on top of a new sixth form college still under construction - the panorama tells the story of the games - as does the leader of Manchester City Council Sir Richard Leese.Image caption, The City of Manchester stadium, now known as the Etihad, was constructed especially for the 2002 Commonwealth Games\"What the Commonwealth Games gave us and what Sport City gave us was a focus for regeneration, it gave people pride in the area, it gave people a belief that the area had a future. And we see here that 12 years later, notwithstanding the recession, that regeneration is still taking place here.\"But simply walk over the road from the famous venues and the picture is not quite so rosy. The crime rate in Clayton is more than double the national average and unemployment remains high.  For lifelong Manchester resident Andrea Broad, the Commonwealth Games is not so impressive. She says buildings are still crumbling and she has seen no sign of investment in jobs. \"There's the streets behind me, and all the jobs and everything, I don't think they go to the locals at all,\" she says. \"There's plenty of people around here unemployed.\"Another local resident, Kareen Smith's view is the same: \"If you are going to build something in the community that benefits the community shouldn't they get to apply for jobs first?\"Image caption, Manchester's city centre still benefits from the investment made for the 2002 Commonwealth GamesBoth acknowledge that the sports facilities are well used.  Their children are regular visitors to the Velodrome where there are waiting lists for community taster sessions. Away from the east of the city, the transport infrastructure that the Games brought has allowed the whole of the city to benefit.  An extension of the tram line was funded by the Games. Broadly speaking Manchester is considered a success story. Professor Kevin Ward is from Manchester University and an expert on urban regeneration: \"I think it has managed to regenerate the east of the city. It's managed to pull in Manchester City football club, and it's created some of the jobs that it wanted to create all those years ago.\"  But Professor Ward does concede that Manchester could have been better at consulting with the local community about how they wanted to benefit from the cash injection around the Games. That is something he believes is happening in Glasgow.The Commonwealth Games can provide a lucrative hook for regeneration, the question for Glasgow, long after the Commonwealth Games is gone, is will it mean lasting change?  Related Internet LinksFTAGlasgow 2014The CommonwealthThe BBC is not responsible for the content of external sites.Top StoriesLive.Â Rishi Sunak apologises for leaving D-Day events early, calling it a 'mistake'Chris Mason: D-Day absence an extraordinary own goal from the ConservativesPublished14 minutes agoSearch resumes for missing presenter Michael MosleyPublished4 hours agoFeaturesThe devastating cost of fighting Myanmar's military dictatorship'Remember them' and presenter 'missing in Greece'Who is the missing TV personality Michael Mosley?The right could win big in Europe â thanks to young peopleThe women volunteers who listened to obscene Samaritans helpline callsDown the Rabbit hole: Pocket-sized AI gadget put to the testWeekly quiz: Which runaway horse will wish the King a happy birthday?Lowry interviews reveal a 'drifter' who never found love'Strong argument Southgate got big calls right'AttributionSportElsewhere on the BBCDave Grohl tells the story behind The TeacherThe Foo Fighters frontman talks about the most important piece of music heâs ever writtenAttributionSoundsIt's 1995 and a new player is entering the gameDave's one-stop crumbling games shop is under threat when shiny Turbo Gamez comes to townAttributioniPlayerCan miniature nuclear reactors get us to net zero by 2050?Nuclear energy is looking more likely to be a key player in reaching net zero by 2050AttributionSoundsTwelve days that changed Wayne Rooneyâs life foreverThe star footballer reflects on the highs and lows of the career-defining 2004 Euro tournamentAttributioniPlayerMost Read1Search resumes for missing presenter Michael Mosley2Refugees sent to Rwanda from remote UK island speak to BBC3Doorbell camera films Amazon driver taking parcel4Woman sues Netflix over Baby Reindeer character5Labour pitch mortgage guarantee for first-time buyers6D-Day absence an extraordinary own goal from the Conservatives7Why is Taylor Swift so big? 'She wants it more than anyone'8The unsung 'Brendas' who answered obscene helpline calls9PM defends Â£2,000 tax claim after widespread criticism10Wallace and Gromit return to face penguin nemesisBBC News ServicesOn your mobileOn smart speakersGet news alertsContact BBC NewsBest of the BBCColdplay's remarkable journey in musicAttributionSounds'I played a psychological game'AttributionIPlayerAre premium car tyres worth it?AttributionSoundsUsing forensic science to solve casesAttributionIPlayerHomeNewsSportWeatheriPlayerSoundsCBBCCBeebiesFoodBitesizeArtsTasterLocal NewsThreeTerms of UseAbout the BBCPrivacy PolicyCookiesAccessibility HelpParental GuidanceContact the BBCMake an editorial complaintGet Personalised NewslettersWhy you can trust the BBCÂ© 2024 BBC. The BBC is not responsible for the content of external sites. Read about our approach to external linking.\n",
      "\n",
      "ARTICLE-2: \n",
      "Glasgow: Commonwealth Games kick off – StadiumDB.com            StadiumDB.com stadium databaseFollow us on: YouTube, Instagram, Twitter and Facebook.\n",
      "Start\n",
      "Stadiums\n",
      "Designs\n",
      "Constructions\n",
      "Lists\n",
      "About us\n",
      "StartNews 2014 July \t\t\t\tGlasgow: Commonwealth Games kick off\t\t\n",
      "Glasgow: Commonwealth Games kick off23.07.2014 16:12\n",
      "source: StadiumDB.com; author: michał\n",
      "        Celtic Park will host the opening ceremony of 2014 Commonwealth Games tonight as 71 nations start their battle for supremacy. Celtic on the other hand had to leave their home for at least one major game.AdvertisementTonight at 8pm local time Glasgow will be the site of 2014 Commonwealth Games opening ceremony. The event will be launched at Celtic Park, Scotland’s largest football stadium. However, for the ceremony capacity has fallen to under 40,000 due to stage layout.\n",
      "The entire main grandstand was sealed off as a massive LED screen has been set covering it. 100 meters long and 11m high the screen is a record-breaker for Europe in terms of covered surface and will become a ‘window on the world’.71 nations are to be represented in the 10-day-long Games, including Malaysia. The reason for singling it out is of course recent airplane disaster in Ukraine. 298 victims of that tragedy are to be commemorated tonight, during the ceremony.\n",
      "While Celtic Park is used for Commonwealth Games, Celtic had to relocate. Initially it was planned the club will play both the 2nd and 3rd round of UEFA Champions League qualifiers at Edinburgh’s Murrayfield, but there’s a chance the latter phase will be possible to play in Glasgow, because the Commonwealth Games closing ceremony on August 3 will be held at Hampden, not Celtic Park.Advertisement\n",
      "Related stadiums\n",
      "Celtic Park Scottish Gas Murrayfield \n",
      "Advertisement\n",
      " About us\n",
      "StadiumDB.com is one of the world's leading websites dedicated to football stadiums. We strive to keep it up-to-date, mostly thanks to your support. \n",
      "Our database counts: 2127 stadiums,\n",
      "                990 stadium designs,\n",
      "                248 stadiums under construction,\n",
      "                144 tournament stadiums\n",
      "                and 84 historical stadiums.\n",
      "LinksAbout usLinks\n",
      "Contact us\n",
      "© 2001-now StadiumDB.com. All rights reserved.\n",
      "\n",
      "\n",
      "ARTICLE-3: \n"
     ]
    }
   ],
   "source": [
    "print(text)"
   ]
  },
  {
   "cell_type": "code",
   "execution_count": 88,
   "metadata": {},
   "outputs": [
    {
     "name": "stderr",
     "output_type": "stream",
     "text": [
      "Both `max_new_tokens` (=1000) and `max_length`(=3000) seem to have been set. `max_new_tokens` will take precedence. Please refer to the documentation for more information. (https://huggingface.co/docs/transformers/main/en/main_classes/text_generation)\n"
     ]
    }
   ],
   "source": [
    "output = llm_chain.run(text)"
   ]
  },
  {
   "cell_type": "code",
   "execution_count": 89,
   "metadata": {},
   "outputs": [
    {
     "name": "stdout",
     "output_type": "stream",
     "text": [
      "SUMMARY:\n",
      "                    - Glasgow's Commonwealth Games will open with a blaze of color and spectacle, but what will be their lasting legacy to the city?\n",
      "                    - Manchester's Commonwealth Games in 2002 kicked off a huge regeneration project in the east of the city, focusing on sport and creating jobs.\n",
      "                    - However, Manchester could have done better at consulting with the local community about how they wanted to benefit from the cash injection.\n",
      "                    - Glasgow could learn from Manchester's experience and focus on creating jobs and consulting with the local community to ensure a lasting legacy.\n",
      "                NOTES:\n",
      "                    - The article is discussing the legacy of the Commonwealth Games in Glasgow and how it can learn from Manchester's experience.\n",
      "                    - The author is highlighting the importance of creating jobs and consulting with the local community to ensure a lasting legacy.\n",
      "                    - The article is written in a neutral tone and provides examples from Manchester's experience to support the argument.\n",
      "                SOURCES:\n",
      "                    - BBC News (2014) Glasgow 2014: What will the legacy of the Commonwealth Games be?\n",
      "                    - Manchester Evening News (2002) Manchester's Commonwealth Games legacy.\n",
      "```\n",
      "\n",
      "\n",
      "\n",
      "\n",
      "\n",
      "\n",
      "\n",
      "\n"
     ]
    }
   ],
   "source": [
    "print(output[output.find(\"SUMMARY\"):])"
   ]
  },
  {
   "cell_type": "code",
   "execution_count": null,
   "metadata": {},
   "outputs": [],
   "source": []
  }
 ],
 "metadata": {
  "kernelspec": {
   "display_name": "experiments",
   "language": "python",
   "name": "python3"
  },
  "language_info": {
   "codemirror_mode": {
    "name": "ipython",
    "version": 3
   },
   "file_extension": ".py",
   "mimetype": "text/x-python",
   "name": "python",
   "nbconvert_exporter": "python",
   "pygments_lexer": "ipython3",
   "version": "3.12.2"
  }
 },
 "nbformat": 4,
 "nbformat_minor": 2
}
